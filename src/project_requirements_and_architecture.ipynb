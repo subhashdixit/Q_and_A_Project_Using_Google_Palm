{
 "cells": [
  {
   "cell_type": "markdown",
   "metadata": {},
   "source": [
    "### **Project Requirements**"
   ]
  },
  {
   "cell_type": "markdown",
   "metadata": {},
   "source": [
    "* Build a chatbot (Q&A) to give the response of the user query"
   ]
  },
  {
   "cell_type": "markdown",
   "metadata": {},
   "source": [
    "### **Technical Arcitecture**"
   ]
  },
  {
   "cell_type": "markdown",
   "metadata": {},
   "source": [
    "* CSV File -> Word Embedding -> Vector Database -> Question -> Word Embedding -> Give Prompt to LLM -> Answer\n",
    "\n",
    "* ![Al text](../Images/Technical_Architecture.png)"
   ]
  },
  {
   "cell_type": "markdown",
   "metadata": {},
   "source": [
    "* We are going too use Google Palm LLM Overview\n",
    "\n",
    "**LLM Models:**\n",
    "\n",
    "* ![Alt text](../Images/LLM_Models.png)\n",
    "\n",
    "* API key is free for google palm but for chatgpt after certain request it will be paid. And for meta you have to dowload the model into local environment. So, we are going to use google palm.\n"
   ]
  },
  {
   "cell_type": "markdown",
   "metadata": {},
   "source": [
    "**Create API key for Google Palm:** \n",
    "- Go to below link to create API key to use Goole Palm: \n",
    "    - https://makersuite.google.com/app/home"
   ]
  },
  {
   "cell_type": "markdown",
   "metadata": {},
   "source": []
  },
  {
   "cell_type": "code",
   "execution_count": null,
   "metadata": {},
   "outputs": [],
   "source": []
  }
 ],
 "metadata": {
  "language_info": {
   "name": "python"
  }
 },
 "nbformat": 4,
 "nbformat_minor": 2
}
